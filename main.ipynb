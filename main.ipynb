{
 "cells": [
  {
   "cell_type": "markdown",
   "metadata": {},
   "source": [
    "# CS3710 Project Report"
   ]
  },
  {
   "cell_type": "code",
   "execution_count": 1,
   "metadata": {},
   "outputs": [
    {
     "name": "stdout",
     "output_type": "stream",
     "text": [
      "Current Directory: /home/kibit/pitt/CS3710/cs3710-proj\n"
     ]
    }
   ],
   "source": [
    "%load_ext autoreload\n",
    "%autoreload 2\n",
    "\n",
    "# data analysis\n",
    "import numpy as np\n",
    "import pandas as pd\n",
    "\n",
    "# plotting\n",
    "import seaborn as sns\n",
    "import matplotlib.pyplot as plt\n",
    "\n",
    "import os\n",
    "#os.chdir('src'); \n",
    "print(f\"Current Directory: {os.getcwd()}\")\n",
    "\n",
    "# source code\n",
    "from src.lib import *\n",
    "from src.gaes import *\n",
    "from src.pop import *\n",
    "\n",
    "import json\n",
    "import requests\n",
    "from tqdm.notebook import tqdm\n",
    "import torch # NN\n",
    "import statsmodels.api as sm\n",
    "import matplotlib.patches as patches"
   ]
  },
  {
   "cell_type": "markdown",
   "metadata": {},
   "source": [
    "# GAES"
   ]
  },
  {
   "cell_type": "code",
   "execution_count": 2,
   "metadata": {},
   "outputs": [
    {
     "name": "stdout",
     "output_type": "stream",
     "text": [
      "[init] pulled 402 tract shapes\n",
      "[init] pulled data for 1304 tracts\n",
      "[init] pulled data for 1057 city zones\n",
      "[init] pulled equity scores for 428 tracts\n",
      "[init] pulled 6648 stops\n",
      "[init] binned by stop, there are 108 bins\n",
      "[init] pulled 87806 segments\n",
      "[init] pulled 95 lines\n",
      "[init] lines' stop arrays successfully re-ordered\n"
     ]
    }
   ],
   "source": [
    "G = GAES(census_shapes_json=\"data/2016_census_block.geojson\",census_transport_data_csv=\"data/transport_census.csv\")"
   ]
  },
  {
   "cell_type": "markdown",
   "metadata": {},
   "source": [
    "outputting data to train on colab"
   ]
  },
  {
   "cell_type": "markdown",
   "metadata": {},
   "source": [
    "# GMAPS"
   ]
  },
  {
   "cell_type": "code",
   "execution_count": 74,
   "metadata": {},
   "outputs": [
    {
     "name": "stdout",
     "output_type": "stream",
     "text": [
      "186\n"
     ]
    }
   ],
   "source": [
    "with open('./all_nearby.json') as f:\n",
    "    nearby_search = json.load(f)\n",
    "\n",
    "found = set()\n",
    "for info in nearby_search.values():\n",
    "    for place in info:\n",
    "        types = place['types']\n",
    "        found.update(set(types))\n",
    "\n",
    "print(len(found)) \n",
    "\n",
    "to_index = dict(zip(found, range(len(found))))\n",
    "map_data = np.zeros((len(nearby_search), len(found) + 1)) # initialize matrix (n_stops, n_types + 1), add one for the id\n",
    "\n",
    "for i, stops in enumerate(nearby_search.items()):\n",
    "    stop_id, stop_places = stops\n",
    "\n",
    "    all = np.zeros(len(found)) # sparse\n",
    "    for place in stop_places:\n",
    "        types = [to_index[t] for t in place['types']]\n",
    "        all[types] += 1\n",
    "        \n",
    "    map_data[i] = np.concatenate([[stop_id], all])"
   ]
  },
  {
   "cell_type": "code",
   "execution_count": 6,
   "metadata": {},
   "outputs": [
    {
     "data": {
      "text/plain": [
       "(6648, 187)"
      ]
     },
     "execution_count": 6,
     "metadata": {},
     "output_type": "execute_result"
    }
   ],
   "source": [
    "map_data.shape"
   ]
  },
  {
   "cell_type": "code",
   "execution_count": 7,
   "metadata": {},
   "outputs": [
    {
     "name": "stdout",
     "output_type": "stream",
     "text": [
      "(91816,)\n",
      "6648\n"
     ]
    }
   ],
   "source": [
    "stops = G.stops\n",
    "segments = G.segs[['stopFrom', 'stopTo', 'avgLoad', 'tripCount']]\n",
    "segments[:5]\n",
    "print(segments.shape); print(len(set(stops.keys())))"
   ]
  },
  {
   "cell_type": "code",
   "execution_count": 8,
   "metadata": {},
   "outputs": [
    {
     "name": "stdout",
     "output_type": "stream",
     "text": [
      "204\n",
      "missing = 9996\n"
     ]
    }
   ],
   "source": [
    "nfeats = (6*3) + map_data.shape[1] - 1; print(nfeats)\n",
    "data = np.zeros(shape = (segments.shape[0], 2, nfeats))\n",
    "loads = []\n",
    "missing = 0\n",
    "\n",
    "for s in range(segments.shape[0]):\n",
    "    try:\n",
    "        seg = segments[s]\n",
    "        fromid = seg['stopFrom']\n",
    "        toid = seg['stopTo']\n",
    "        stopfrom = stops[fromid]\n",
    "        stopto = stops[toid]\n",
    "\n",
    "        fromtract = int(stopfrom.tract)\n",
    "        totract = int(stopto.tract)\n",
    "\n",
    "        fromdata = G.census_data[G.census_data['tract_id'] == fromtract]\n",
    "        todata = G.census_data[G.census_data['tract_id'] == totract]\n",
    "\n",
    "        # alone, carpooled, public\n",
    "        flat_from = [t for t in fromdata[1:]]\n",
    "        flat_to = [t for t in todata[1:]]\n",
    "\n",
    "        # median age, median income, % owned houses, black, asian, white\n",
    "        orderedfrom = np.array([[x[2],x[4],x[5]] + list(x[3]) for x in flat_from]).flatten()\n",
    "        orderedto = np.array([[x[2],x[4],x[5]] + list(x[3]) for x in flat_to]).flatten()\n",
    "\n",
    "        # bus stop businesses (1 km radius)\n",
    "        fromdata = map_data[map_data[:,0] == fromid][0,1:]\n",
    "        todata = map_data[map_data[:,0] == toid][0,1:]\n",
    "        orderedfrom = np.concatenate([orderedfrom, fromdata])\n",
    "        orderedto = np.concatenate([orderedto, todata])\n",
    "\n",
    "        data[s] = np.array([orderedfrom, orderedto])\n",
    "        loads.append(seg['avgLoad'])\n",
    "    except:\n",
    "        missing += 1\n",
    "        #print(f\"error on {fromid}\")\n",
    "\n",
    "print(f\"{missing = }\")"
   ]
  },
  {
   "cell_type": "code",
   "execution_count": 9,
   "metadata": {},
   "outputs": [
    {
     "data": {
      "text/plain": [
       "True"
      ]
     },
     "execution_count": 9,
     "metadata": {},
     "output_type": "execute_result"
    }
   ],
   "source": [
    "mask = ~(data == 0).all(axis = (1,2))\n",
    "qc_data = data[mask]\n",
    "qc_data.shape[0] == len(loads)"
   ]
  },
  {
   "cell_type": "code",
   "execution_count": 10,
   "metadata": {},
   "outputs": [],
   "source": [
    "#np.save('./demand_data.npy', qc_data, allow_pickle = False)\n",
    "#np.save('./demand_true.npy', loads, allow_pickle = False)"
   ]
  },
  {
   "cell_type": "markdown",
   "metadata": {},
   "source": [
    "### Brief Data Analysis"
   ]
  },
  {
   "cell_type": "code",
   "execution_count": 11,
   "metadata": {},
   "outputs": [
    {
     "data": {
      "image/png": "[encoded data removed]",
      "text/plain": [
       "<Figure size 640x480 with 1 Axes>"
      ]
     },
     "metadata": {},
     "output_type": "display_data"
    }
   ],
   "source": [
    "ax = sns.histplot(x = loads, bins = 20, kde = True) # dayumn she skewed; can be fixed w log transform but shouldnt matter"
   ]
  },
  {
   "cell_type": "code",
   "execution_count": 12,
   "metadata": {},
   "outputs": [],
   "source": [
    "demand_in_tract = {}\n",
    "oops = 0\n",
    "for seg in G.segs:\n",
    "    try:\n",
    "        source_id = seg['stopFrom']\n",
    "        sink_id = seg['stopTo']\n",
    "\n",
    "        source = G.stops[source_id]\n",
    "        sink = G.stops[sink_id]\n",
    "\n",
    "        # add source information to its tract\n",
    "        if source.tract in demand_in_tract:\n",
    "            demand_in_tract[source.tract][0] += seg['avgLoad']\n",
    "            demand_in_tract[source.tract][1] += seg['tripCount']\n",
    "        else:\n",
    "            demand_in_tract[source.tract] = [0,0]\n",
    "            demand_in_tract[source.tract][0] += seg['avgLoad']\n",
    "            demand_in_tract[source.tract][1] += seg['tripCount']\n",
    "        if source.tract == sink.tract: continue # don't add info twice\n",
    "        # add sink info\n",
    "        else:\n",
    "            if sink.tract in demand_in_tract:\n",
    "                demand_in_tract[sink.tract][0] += seg['avgLoad']\n",
    "                demand_in_tract[sink.tract][1] += seg['tripCount']\n",
    "            else:\n",
    "                demand_in_tract[sink.tract] = [0,0]\n",
    "                demand_in_tract[sink.tract][0] += seg['avgLoad']\n",
    "                demand_in_tract[sink.tract][1] += seg['tripCount']\n",
    "    except:\n",
    "        oops += 1"
   ]
  },
  {
   "cell_type": "code",
   "execution_count": 13,
   "metadata": {},
   "outputs": [
    {
     "name": "stdout",
     "output_type": "stream",
     "text": [
      "(340, 2)\n"
     ]
    },
    {
     "data": {
      "text/html": [
       "<div>\n",
       "<style scoped>\n",
       "    .dataframe tbody tr th:only-of-type {\n",
       "        vertical-align: middle;\n",
       "    }\n",
       "\n",
       "    .dataframe tbody tr th {\n",
       "        vertical-align: top;\n",
       "    }\n",
       "\n",
       "    .dataframe thead th {\n",
       "        text-align: right;\n",
       "    }\n",
       "</style>\n",
       "<table border=\"1\" class=\"dataframe\">\n",
       "  <thead>\n",
       "    <tr style=\"text-align: right;\">\n",
       "      <th></th>\n",
       "      <th>avgLoad</th>\n",
       "      <th>tripCount</th>\n",
       "    </tr>\n",
       "  </thead>\n",
       "  <tbody>\n",
       "    <tr>\n",
       "      <th>203</th>\n",
       "      <td>6322.994781</td>\n",
       "      <td>10152.0</td>\n",
       "    </tr>\n",
       "    <tr>\n",
       "      <th>605</th>\n",
       "      <td>4120.134078</td>\n",
       "      <td>4002.0</td>\n",
       "    </tr>\n",
       "    <tr>\n",
       "      <th>603</th>\n",
       "      <td>5061.346189</td>\n",
       "      <td>6959.0</td>\n",
       "    </tr>\n",
       "    <tr>\n",
       "      <th>902</th>\n",
       "      <td>1722.323036</td>\n",
       "      <td>2870.0</td>\n",
       "    </tr>\n",
       "    <tr>\n",
       "      <th>5138</th>\n",
       "      <td>1345.347337</td>\n",
       "      <td>4110.0</td>\n",
       "    </tr>\n",
       "  </tbody>\n",
       "</table>\n",
       "</div>"
      ],
      "text/plain": [
       "          avgLoad  tripCount\n",
       "203   6322.994781    10152.0\n",
       "605   4120.134078     4002.0\n",
       "603   5061.346189     6959.0\n",
       "902   1722.323036     2870.0\n",
       "5138  1345.347337     4110.0"
      ]
     },
     "execution_count": 13,
     "metadata": {},
     "output_type": "execute_result"
    }
   ],
   "source": [
    "demand_df = pd.DataFrame(demand_in_tract).T.rename(columns={0: \"avgLoad\", 1: \"tripCount\"}); print(demand_df.shape)\n",
    "demand_df.head(5)"
   ]
  },
  {
   "cell_type": "code",
   "execution_count": 14,
   "metadata": {},
   "outputs": [],
   "source": [
    "mi = []\n",
    "black, asian, white = [], [], []\n",
    "for t in demand_df.index:\n",
    "        try:\n",
    "            cd = G.census_data[G.census_data['tract_id'] == int(t)][0]\n",
    "        except:\n",
    "            mi.append(np.nan)\n",
    "            black.append(np.nan)\n",
    "            asian.append(np.nan)\n",
    "            white.append(np.nan)\n",
    "            continue\n",
    "        mi.append(cd['median_income'])\n",
    "        b, a, w = cd['demographics']\n",
    "        black.append(b)\n",
    "        asian.append(a)\n",
    "        white.append(w)"
   ]
  },
  {
   "cell_type": "code",
   "execution_count": 15,
   "metadata": {},
   "outputs": [],
   "source": [
    "meta_info = pd.DataFrame(\n",
    "    {\n",
    "        'mi' : mi,\n",
    "        'black' : black,\n",
    "        'asian' : asian,\n",
    "        'white' : white\n",
    "    }\n",
    ")"
   ]
  },
  {
   "cell_type": "code",
   "execution_count": 16,
   "metadata": {},
   "outputs": [
    {
     "name": "stdout",
     "output_type": "stream",
     "text": [
      "(340, 2)\n",
      "(340, 4)\n"
     ]
    }
   ],
   "source": [
    "print(demand_df.shape)\n",
    "print(meta_info.shape)"
   ]
  },
  {
   "cell_type": "code",
   "execution_count": 17,
   "metadata": {},
   "outputs": [
    {
     "data": {
      "text/html": [
       "<div>\n",
       "<style scoped>\n",
       "    .dataframe tbody tr th:only-of-type {\n",
       "        vertical-align: middle;\n",
       "    }\n",
       "\n",
       "    .dataframe tbody tr th {\n",
       "        vertical-align: top;\n",
       "    }\n",
       "\n",
       "    .dataframe thead th {\n",
       "        text-align: right;\n",
       "    }\n",
       "</style>\n",
       "<table border=\"1\" class=\"dataframe\">\n",
       "  <thead>\n",
       "    <tr style=\"text-align: right;\">\n",
       "      <th></th>\n",
       "      <th>avgLoad</th>\n",
       "      <th>tripCount</th>\n",
       "      <th>mi</th>\n",
       "      <th>black</th>\n",
       "      <th>asian</th>\n",
       "      <th>white</th>\n",
       "    </tr>\n",
       "    <tr>\n",
       "      <th>tract_id</th>\n",
       "      <th></th>\n",
       "      <th></th>\n",
       "      <th></th>\n",
       "      <th></th>\n",
       "      <th></th>\n",
       "      <th></th>\n",
       "    </tr>\n",
       "  </thead>\n",
       "  <tbody>\n",
       "    <tr>\n",
       "      <th>203</th>\n",
       "      <td>6322.994781</td>\n",
       "      <td>10152.0</td>\n",
       "      <td>78250.0</td>\n",
       "      <td>92.9</td>\n",
       "      <td>1.7</td>\n",
       "      <td>4.8</td>\n",
       "    </tr>\n",
       "    <tr>\n",
       "      <th>605</th>\n",
       "      <td>4120.134078</td>\n",
       "      <td>4002.0</td>\n",
       "      <td>38102.0</td>\n",
       "      <td>93.7</td>\n",
       "      <td>2.1</td>\n",
       "      <td>0.0</td>\n",
       "    </tr>\n",
       "    <tr>\n",
       "      <th>603</th>\n",
       "      <td>5061.346189</td>\n",
       "      <td>6959.0</td>\n",
       "      <td>43232.0</td>\n",
       "      <td>88.9</td>\n",
       "      <td>7.5</td>\n",
       "      <td>1.6</td>\n",
       "    </tr>\n",
       "    <tr>\n",
       "      <th>902</th>\n",
       "      <td>1722.323036</td>\n",
       "      <td>2870.0</td>\n",
       "      <td>43325.0</td>\n",
       "      <td>94.2</td>\n",
       "      <td>0.8</td>\n",
       "      <td>3.1</td>\n",
       "    </tr>\n",
       "    <tr>\n",
       "      <th>5138</th>\n",
       "      <td>1345.347337</td>\n",
       "      <td>4110.0</td>\n",
       "      <td>20793.0</td>\n",
       "      <td>21.6</td>\n",
       "      <td>71.8</td>\n",
       "      <td>0.0</td>\n",
       "    </tr>\n",
       "    <tr>\n",
       "      <th>...</th>\n",
       "      <td>...</td>\n",
       "      <td>...</td>\n",
       "      <td>...</td>\n",
       "      <td>...</td>\n",
       "      <td>...</td>\n",
       "      <td>...</td>\n",
       "    </tr>\n",
       "    <tr>\n",
       "      <th>4734.02</th>\n",
       "      <td>15.981444</td>\n",
       "      <td>72.0</td>\n",
       "      <td>NaN</td>\n",
       "      <td>NaN</td>\n",
       "      <td>NaN</td>\n",
       "      <td>NaN</td>\n",
       "    </tr>\n",
       "    <tr>\n",
       "      <th>4741.02</th>\n",
       "      <td>6.083219</td>\n",
       "      <td>108.0</td>\n",
       "      <td>NaN</td>\n",
       "      <td>NaN</td>\n",
       "      <td>NaN</td>\n",
       "      <td>NaN</td>\n",
       "    </tr>\n",
       "    <tr>\n",
       "      <th>4723</th>\n",
       "      <td>200.274521</td>\n",
       "      <td>162.0</td>\n",
       "      <td>36591.0</td>\n",
       "      <td>86.3</td>\n",
       "      <td>7.9</td>\n",
       "      <td>1.3</td>\n",
       "    </tr>\n",
       "    <tr>\n",
       "      <th>4724</th>\n",
       "      <td>247.260625</td>\n",
       "      <td>215.0</td>\n",
       "      <td>45263.0</td>\n",
       "      <td>95.1</td>\n",
       "      <td>1.9</td>\n",
       "      <td>1.9</td>\n",
       "    </tr>\n",
       "    <tr>\n",
       "      <th>4721</th>\n",
       "      <td>216.288937</td>\n",
       "      <td>162.0</td>\n",
       "      <td>39479.0</td>\n",
       "      <td>91.6</td>\n",
       "      <td>3.3</td>\n",
       "      <td>0.8</td>\n",
       "    </tr>\n",
       "  </tbody>\n",
       "</table>\n",
       "<p>340 rows × 6 columns</p>\n",
       "</div>"
      ],
      "text/plain": [
       "              avgLoad  tripCount       mi  black  asian  white\n",
       "tract_id                                                      \n",
       "203       6322.994781    10152.0  78250.0   92.9    1.7    4.8\n",
       "605       4120.134078     4002.0  38102.0   93.7    2.1    0.0\n",
       "603       5061.346189     6959.0  43232.0   88.9    7.5    1.6\n",
       "902       1722.323036     2870.0  43325.0   94.2    0.8    3.1\n",
       "5138      1345.347337     4110.0  20793.0   21.6   71.8    0.0\n",
       "...               ...        ...      ...    ...    ...    ...\n",
       "4734.02     15.981444       72.0      NaN    NaN    NaN    NaN\n",
       "4741.02      6.083219      108.0      NaN    NaN    NaN    NaN\n",
       "4723       200.274521      162.0  36591.0   86.3    7.9    1.3\n",
       "4724       247.260625      215.0  45263.0   95.1    1.9    1.9\n",
       "4721       216.288937      162.0  39479.0   91.6    3.3    0.8\n",
       "\n",
       "[340 rows x 6 columns]"
      ]
     },
     "execution_count": 17,
     "metadata": {},
     "output_type": "execute_result"
    }
   ],
   "source": [
    "demo_df = pd.concat(\n",
    "    [demand_df.reset_index(names = 'tract_id'), meta_info], \n",
    "    ignore_index = False, axis = 1\n",
    ").set_index('tract_id')\n",
    "demo_df"
   ]
  },
  {
   "cell_type": "code",
   "execution_count": 18,
   "metadata": {},
   "outputs": [
    {
     "data": {
      "text/plain": [
       "[Text(0.5, 1.0, 'Average Load vs. Number of Trips across Tracts')]"
      ]
     },
     "execution_count": 18,
     "metadata": {},
     "output_type": "execute_result"
    },
    {
     "data": {
      "image/png": "[encoded data removed]",
      "text/plain": [
       "<Figure size 640x480 with 1 Axes>"
      ]
     },
     "metadata": {},
     "output_type": "display_data"
    }
   ],
   "source": [
    "sns.set_style(\"whitegrid\")\n",
    "ax = sns.regplot(data = demo_df, x = 'avgLoad', y = 'tripCount', marker = '.') # highly correlated\n",
    "ax.set(title = \"Average Load vs. Number of Trips across Tracts\")"
   ]
  },
  {
   "cell_type": "markdown",
   "metadata": {},
   "source": [
    "5 most and 5 least average loads"
   ]
  },
  {
   "cell_type": "code",
   "execution_count": 19,
   "metadata": {},
   "outputs": [],
   "source": [
    "top_demand = demo_df.sort_values(by = 'avgLoad', ascending = True).iloc[np.linspace(-50,-1,50)]\n",
    "least_demand = demo_df.sort_values(by = 'avgLoad', ascending = True).iloc[np.linspace(0,49,50)]"
   ]
  },
  {
   "cell_type": "code",
   "execution_count": 20,
   "metadata": {},
   "outputs": [
    {
     "name": "stdout",
     "output_type": "stream",
     "text": [
      "                            OLS Regression Results                            \n",
      "==============================================================================\n",
      "Dep. Variable:                      y   R-squared:                       0.005\n",
      "Model:                            OLS   Adj. R-squared:                 -0.090\n",
      "Method:                 Least Squares   F-statistic:                   0.04939\n",
      "Date:                Thu, 25 Apr 2024   Prob (F-statistic):              0.995\n",
      "Time:                        14:02:01   Log-Likelihood:                -454.02\n",
      "No. Observations:                  47   AIC:                             918.0\n",
      "Df Residuals:                      42   BIC:                             927.3\n",
      "Df Model:                           4                                         \n",
      "Covariance Type:            nonrobust                                         \n",
      "==============================================================================\n",
      "                 coef    std err          t      P>|t|      [0.025      0.975]\n",
      "------------------------------------------------------------------------------\n",
      "const       7757.2549   2.78e+04      0.279      0.782   -4.84e+04    6.39e+04\n",
      "x1           -21.2644    291.734     -0.073      0.942    -610.007     567.478\n",
      "x2           -29.3106    288.921     -0.101      0.920    -612.377     553.755\n",
      "x3           -41.4066    291.908     -0.142      0.888    -630.501     547.688\n",
      "x4             0.0058      0.046      0.125      0.901      -0.088       0.099\n",
      "==============================================================================\n",
      "Omnibus:                       76.930   Durbin-Watson:                   0.434\n",
      "Prob(Omnibus):                  0.000   Jarque-Bera (JB):             1057.606\n",
      "Skew:                           4.248   Prob(JB):                    2.21e-230\n",
      "Kurtosis:                      24.631   Cond. No.                     1.68e+06\n",
      "==============================================================================\n",
      "\n",
      "Notes:\n",
      "[1] Standard Errors assume that the covariance matrix of the errors is correctly specified.\n",
      "[2] The condition number is large, 1.68e+06. This might indicate that there are\n",
      "strong multicollinearity or other numerical problems.\n"
     ]
    }
   ],
   "source": [
    "temp = top_demand.dropna()\n",
    "X = sm.add_constant(temp[['black','asian','white','mi']].to_numpy())\n",
    "lm = sm.OLS(temp['avgLoad'].to_numpy(), X).fit()\n",
    "print(lm.summary())"
   ]
  },
  {
   "cell_type": "code",
   "execution_count": 6,
   "metadata": {},
   "outputs": [
    {
     "ename": "NameError",
     "evalue": "name 'top_demand' is not defined",
     "output_type": "error",
     "traceback": [
      "\u001b[0;31m---------------------------------------------------------------------------\u001b[0m",
      "\u001b[0;31mNameError\u001b[0m                                 Traceback (most recent call last)",
      "Cell \u001b[0;32mIn[6], line 4\u001b[0m\n\u001b[1;32m      1\u001b[0m \u001b[38;5;28;01mimport\u001b[39;00m \u001b[38;5;21;01mmatplotlib\u001b[39;00m\u001b[38;5;21;01m.\u001b[39;00m\u001b[38;5;21;01mpatches\u001b[39;00m \u001b[38;5;28;01mas\u001b[39;00m \u001b[38;5;21;01mpatches\u001b[39;00m\n\u001b[1;32m      3\u001b[0m fig, ax \u001b[38;5;241m=\u001b[39m plt\u001b[38;5;241m.\u001b[39msubplots()\n\u001b[0;32m----> 4\u001b[0m \u001b[38;5;28;01mfor\u001b[39;00m tract \u001b[38;5;129;01min\u001b[39;00m \u001b[43mtop_demand\u001b[49m\u001b[38;5;241m.\u001b[39mindex:\n\u001b[1;32m      5\u001b[0m     p \u001b[38;5;241m=\u001b[39m G\u001b[38;5;241m.\u001b[39mcensus_shapes[tract]\n\u001b[1;32m      6\u001b[0m     patch \u001b[38;5;241m=\u001b[39m patches\u001b[38;5;241m.\u001b[39mPathPatch(p\u001b[38;5;241m.\u001b[39mgeometry, facecolor\u001b[38;5;241m=\u001b[39m\u001b[38;5;124m'\u001b[39m\u001b[38;5;124morange\u001b[39m\u001b[38;5;124m'\u001b[39m, lw\u001b[38;5;241m=\u001b[39m\u001b[38;5;241m0.75\u001b[39m)\n",
      "\u001b[0;31mNameError\u001b[0m: name 'top_demand' is not defined"
     ]
    },
    {
     "data": {
      "image/png": "[encoded data removed]",
      "text/plain": [
       "<Figure size 640x480 with 1 Axes>"
      ]
     },
     "metadata": {},
     "output_type": "display_data"
    }
   ],
   "source": [
    "import matplotlib.patches as patches\n",
    "\n",
    "fig, ax = plt.subplots()\n",
    "for tract in top_demand.index:\n",
    "    p = G.census_shapes[tract]\n",
    "    patch = patches.PathPatch(p.geometry, facecolor='orange', lw=0.75)\n",
    "    ax.add_patch(patch)\n",
    "\n",
    "for tract in least_demand.index:\n",
    "    p = G.census_shapes[tract]\n",
    "    patch = patches.PathPatch(p.geometry, facecolor='blue', lw=0.75)\n",
    "    ax.add_patch(patch)\n",
    "\n",
    "#ax.set_xlim(-80.12, -79.85)\n",
    "#ax.set_ylim(40.35, 40.51)\n",
    "ax.set(title = \"Highest and Lowest Demand Tracts\")\n",
    "plt.autoscale()\n",
    "plt.show()"
   ]
  },
  {
   "cell_type": "markdown",
   "metadata": {},
   "source": [
    "### MLP"
   ]
  },
  {
   "cell_type": "code",
   "execution_count": 7,
   "metadata": {},
   "outputs": [],
   "source": [
    "nfeats = 2 * 204"
   ]
  },
  {
   "cell_type": "code",
   "execution_count": 3,
   "metadata": {},
   "outputs": [],
   "source": [
    "class MultiLayerPerceptron(torch.nn.Module):\n",
    "    def __init__(self, input_size, hidden_size, dropout):\n",
    "        '''\n",
    "        Multilayer perceptron w/ norm layers\n",
    "        '''\n",
    "        super(MultiLayerPerceptron, self).__init__()\n",
    "\n",
    "        self.hidden = torch.nn.Sequential(\n",
    "            torch.nn.Dropout(dropout),\n",
    "            torch.nn.Linear(input_size, hidden_size),\n",
    "            torch.nn.BatchNorm1d(hidden_size),\n",
    "            torch.nn.ReLU(),\n",
    "            torch.nn.Linear(hidden_size, hidden_size//2),\n",
    "            torch.nn.BatchNorm1d(hidden_size//2),\n",
    "            torch.nn.ReLU(),\n",
    "            torch.nn.Linear(hidden_size//2, hidden_size//4),\n",
    "            torch.nn.BatchNorm1d(hidden_size//4),\n",
    "            torch.nn.ReLU(),\n",
    "            torch.nn.Linear(hidden_size//4, 1),\n",
    "        )\n",
    "\n",
    "    def forward(self, X):\n",
    "        if not torch.is_tensor(X):\n",
    "            X = torch.tensor(X)\n",
    "        X = X.reshape(X.shape[0], -1).to(torch.float32) # (batch, 2 * 18)\n",
    "        out = self.hidden(X)\n",
    "        return out"
   ]
  },
  {
   "cell_type": "code",
   "execution_count": 4,
   "metadata": {},
   "outputs": [
    {
     "data": {
      "text/plain": [
       "MultiLayerPerceptron(\n",
       "  (hidden): Sequential(\n",
       "    (0): Dropout(p=0.4, inplace=False)\n",
       "    (1): Linear(in_features=408, out_features=1000, bias=True)\n",
       "    (2): BatchNorm1d(1000, eps=1e-05, momentum=0.1, affine=True, track_running_stats=True)\n",
       "    (3): ReLU()\n",
       "    (4): Linear(in_features=1000, out_features=500, bias=True)\n",
       "    (5): BatchNorm1d(500, eps=1e-05, momentum=0.1, affine=True, track_running_stats=True)\n",
       "    (6): ReLU()\n",
       "    (7): Linear(in_features=500, out_features=250, bias=True)\n",
       "    (8): BatchNorm1d(250, eps=1e-05, momentum=0.1, affine=True, track_running_stats=True)\n",
       "    (9): ReLU()\n",
       "    (10): Linear(in_features=250, out_features=1, bias=True)\n",
       "  )\n",
       ")"
      ]
     },
     "execution_count": 4,
     "metadata": {},
     "output_type": "execute_result"
    }
   ],
   "source": [
    "PATH = \"mlp.pth\" # path to saved .pt model file\n",
    "MLP = MultiLayerPerceptron(\n",
    "    input_size = 408,\n",
    "    hidden_size = 1000,\n",
    "    dropout = 0.4\n",
    ")\n",
    "\n",
    "MLP.load_state_dict(torch.load(PATH, map_location=torch.device('cpu')))\n",
    "MLP.eval()"
   ]
  },
  {
   "cell_type": "markdown",
   "metadata": {},
   "source": [
    "making a prediction"
   ]
  },
  {
   "cell_type": "code",
   "execution_count": 75,
   "metadata": {},
   "outputs": [],
   "source": [
    "total = 0\n",
    "for k,v in network.items():\n",
    "    for i in v:\n",
    "        total+=1"
   ]
  },
  {
   "cell_type": "code",
   "execution_count": 76,
   "metadata": {},
   "outputs": [],
   "source": [
    "stop_to_index = dict(zip(list(G.stops.keys()), range(len(G.stops.keys()))))"
   ]
  },
  {
   "cell_type": "code",
   "execution_count": 77,
   "metadata": {},
   "outputs": [
    {
     "name": "stdout",
     "output_type": "stream",
     "text": [
      "204\n",
      "len(missing) = 1666\n"
     ]
    }
   ],
   "source": [
    "nfeats = (6*3) + map_data.shape[1] - 1; print(nfeats)\n",
    "\n",
    "data = np.zeros(shape = (total, 2, nfeats)) # data for each combo of stops\n",
    "missing = set()\n",
    "stops = []\n",
    "mi = []\n",
    "demand_matrix = np.zeros(shape = (len(G.stops), len(G.stops))) # demand matrix\n",
    "\n",
    "i = 0\n",
    "for source,sinks in network.items():\n",
    "    try:\n",
    "        for s in sinks:\n",
    "            stopfrom = source\n",
    "            sourceid = stopfrom.cleverid\n",
    "            stopto = s\n",
    "            sinkid = stopto.cleverid\n",
    "\n",
    "            fromtract = int(stopfrom.tract)\n",
    "            totract = int(stopto.tract)\n",
    "\n",
    "            fromdata = G.census_data[G.census_data['tract_id'] == fromtract]\n",
    "            todata = G.census_data[G.census_data['tract_id'] == totract]\n",
    "\n",
    "            # alone, carpooled, public\n",
    "            flat_from = [t for t in fromdata[1:]]\n",
    "            flat_to = [t for t in todata[1:]]\n",
    "\n",
    "            # median age, median income, % owned houses, black, asian, white\n",
    "            orderedfrom = np.array([[x[2],x[4],x[5]] + list(x[3]) for x in flat_from]).flatten()\n",
    "            orderedto = np.array([[x[2],x[4],x[5]] + list(x[3]) for x in flat_to]).flatten()\n",
    "\n",
    "            # bus stop businesses (1 km radius)\n",
    "            fromdata = map_data[map_data[:,0] == sourceid][0,1:]\n",
    "            todata = map_data[map_data[:,0] == sinkid][0,1:]\n",
    "            orderedfrom = np.concatenate([orderedfrom, fromdata])\n",
    "            orderedfrom[orderedfrom == None] = 0\n",
    "            orderedto = np.concatenate([orderedto, todata])\n",
    "            orderedto[orderedto == None] = 0\n",
    "\n",
    "            data[i] = np.array([orderedfrom, orderedto])\n",
    "            stops.append((sourceid,sinkid))\n",
    "            i+=1\n",
    "    except:\n",
    "        missing.add((sourceid,sinkid))\n",
    "        mi.append(i)\n",
    "        i+=1\n",
    "\n",
    "print(f\"{len(missing) = }\")\n",
    "data = np.delete(data, mi, 0)"
   ]
  },
  {
   "cell_type": "code",
   "execution_count": 11,
   "metadata": {},
   "outputs": [],
   "source": [
    "#np.save('./data/temp_demand_data.npy', data, allow_pickle = False)"
   ]
  },
  {
   "cell_type": "code",
   "execution_count": 149,
   "metadata": {},
   "outputs": [],
   "source": [
    "demands = np.load('./data/all_demands.npy')"
   ]
  },
  {
   "cell_type": "code",
   "execution_count": 153,
   "metadata": {},
   "outputs": [
    {
     "data": {
      "image/png": "[encoded data removed]",
      "text/plain": [
       "<Figure size 640x480 with 1 Axes>"
      ]
     },
     "metadata": {},
     "output_type": "display_data"
    }
   ],
   "source": [
    "ax = sns.histplot(x = demands, bins = 20)"
   ]
  },
  {
   "cell_type": "code",
   "execution_count": 154,
   "metadata": {},
   "outputs": [
    {
     "data": {
      "text/plain": [
       "1.6178801"
      ]
     },
     "execution_count": 154,
     "metadata": {},
     "output_type": "execute_result"
    }
   ],
   "source": [
    "np.mean(demands)"
   ]
  },
  {
   "cell_type": "code",
   "execution_count": 79,
   "metadata": {},
   "outputs": [],
   "source": [
    "for i,s in enumerate(stops):\n",
    "    source = stop_to_index[s[0]]\n",
    "    sink = stop_to_index[s[1]]\n",
    "    demand_matrix[source,sink] = demands[i]"
   ]
  },
  {
   "cell_type": "code",
   "execution_count": 85,
   "metadata": {},
   "outputs": [
    {
     "data": {
      "text/plain": [
       "True"
      ]
     },
     "execution_count": 85,
     "metadata": {},
     "output_type": "execute_result"
    }
   ],
   "source": [
    "np.all(np.diag(demand_matrix) == np.zeros(demand_matrix.shape[0]))"
   ]
  },
  {
   "cell_type": "code",
   "execution_count": 81,
   "metadata": {},
   "outputs": [],
   "source": [
    "for stops in missing:\n",
    "    source, sink = stops\n",
    "    source_idx = stop_to_index[source]\n",
    "    sink_idx = stop_to_index[sink]\n",
    "\n",
    "    # replace the value with average going out of the stop\n",
    "\n",
    "    row = demand_matrix[source_idx,:]\n",
    "    row = row[row!=0]\n",
    "    if row.shape[0] != 0:\n",
    "        demand_matrix[source_idx, sink_idx] = np.mean(row)\n",
    "    else:\n",
    "        demand_matrix[source_idx, sink_idx] = 0"
   ]
  },
  {
   "cell_type": "code",
   "execution_count": 82,
   "metadata": {},
   "outputs": [],
   "source": [
    "#with open('./data/stop_indexes.json', 'w') as f:\n",
    "#    json.dump(stop_to_index, f)"
   ]
  },
  {
   "cell_type": "markdown",
   "metadata": {},
   "source": [
    "## Population Testing"
   ]
  },
  {
   "cell_type": "code",
   "execution_count": 55,
   "metadata": {},
   "outputs": [],
   "source": [
    "sorted_equity = sorted(G.equity_scores, key = lambda x: x[-2], reverse = True)"
   ]
  },
  {
   "cell_type": "code",
   "execution_count": 57,
   "metadata": {},
   "outputs": [],
   "source": [
    "from matplotlib import path"
   ]
  },
  {
   "cell_type": "code",
   "execution_count": 4,
   "metadata": {},
   "outputs": [],
   "source": [
    "weighted_demand = np.load('./data/demand_matrix.npy')\n",
    "with open('./data/stop_indexes.json', 'r') as f:\n",
    "    indexes = json.load(f)\n",
    "indexes = {int(clever):index for clever,index in indexes.items()}"
   ]
  },
  {
   "cell_type": "code",
   "execution_count": 58,
   "metadata": {},
   "outputs": [],
   "source": [
    "for i in sorted_equity[:20]:\n",
    "    info = G.equity_scores[i]\n",
    "    poly = path.Path(info[-1][0])\n",
    "    for k,v in G.stops.items():\n",
    "        coords = v.coordinates\n",
    "        if poly.contains_point(coords):\n",
    "            index = indexes[k]\n",
    "            weighted_demand[:,index] += 1.5"
   ]
  },
  {
   "cell_type": "code",
   "execution_count": 59,
   "metadata": {},
   "outputs": [],
   "source": [
    "#np.save('./data/weighted_demand_matrix.npy', weighted_demand, allow_pickle = False)"
   ]
  },
  {
   "cell_type": "code",
   "execution_count": 3,
   "metadata": {},
   "outputs": [],
   "source": [
    "network,ind = G.build_initial_population()"
   ]
  },
  {
   "cell_type": "code",
   "execution_count": 4,
   "metadata": {},
   "outputs": [
    {
     "ename": "NameError",
     "evalue": "name 'weighted_demand' is not defined",
     "output_type": "error",
     "traceback": [
      "\u001b[0;31m---------------------------------------------------------------------------\u001b[0m",
      "\u001b[0;31mNameError\u001b[0m                                 Traceback (most recent call last)",
      "Cell \u001b[0;32mIn[4], line 2\u001b[0m\n\u001b[1;32m      1\u001b[0m initial \u001b[38;5;241m=\u001b[39m Individual(\u001b[38;5;28mlist\u001b[39m(copy\u001b[38;5;241m.\u001b[39mdeepcopy(ind)\u001b[38;5;241m.\u001b[39mvalues()),\u001b[38;5;241m0\u001b[39m)\n\u001b[0;32m----> 2\u001b[0m initial\u001b[38;5;241m.\u001b[39mfit(\u001b[43mweighted_demand\u001b[49m, indexes)\n\u001b[1;32m      3\u001b[0m initial\u001b[38;5;241m.\u001b[39mfitness\n",
      "\u001b[0;31mNameError\u001b[0m: name 'weighted_demand' is not defined"
     ]
    }
   ],
   "source": [
    "initial = Individual(list(copy.deepcopy(ind).values()),0)\n",
    "initial.fit(weighted_demand, indexes)\n",
    "initial.fitness"
   ]
  },
  {
   "cell_type": "code",
   "execution_count": null,
   "metadata": {},
   "outputs": [],
   "source": [
    "pop = Population(network, copy.deepcopy(ind), './data/weighted_demand_matrix.npy', './data/stop_indexes.json')"
   ]
  },
  {
   "cell_type": "code",
   "execution_count": null,
   "metadata": {},
   "outputs": [],
   "source": [
    "top = pop.run_generations(100,5,p_mutate = 0.1, p_crossover = 0.5, p_mutate_type = 0.9, k_select = 20)"
   ]
  },
  {
   "cell_type": "code",
   "execution_count": 33,
   "metadata": {},
   "outputs": [
    {
     "name": "stdout",
     "output_type": "stream",
     "text": [
      "14434.012926582354\n",
      "14433.791424397486\n",
      "14432.131376985568\n",
      "14431.721777800578\n",
      "14431.721777800578\n"
     ]
    }
   ],
   "source": [
    "for t in top:\n",
    "    print(t.fitness)\n",
    "\n",
    "new_best = top[0]"
   ]
  },
  {
   "cell_type": "code",
   "execution_count": 5,
   "metadata": {},
   "outputs": [
    {
     "ename": "NameError",
     "evalue": "name 'new_best' is not defined",
     "output_type": "error",
     "traceback": [
      "\u001b[0;31m---------------------------------------------------------------------------\u001b[0m",
      "\u001b[0;31mNameError\u001b[0m                                 Traceback (most recent call last)",
      "Cell \u001b[0;32mIn[5], line 2\u001b[0m\n\u001b[1;32m      1\u001b[0m bus_lines \u001b[38;5;241m=\u001b[39m \u001b[38;5;28mlist\u001b[39m(ind\u001b[38;5;241m.\u001b[39mkeys())\n\u001b[0;32m----> 2\u001b[0m changes \u001b[38;5;241m=\u001b[39m \u001b[43mnew_best\u001b[49m\u001b[38;5;241m.\u001b[39mgene_fitness \u001b[38;5;241m-\u001b[39m initial\u001b[38;5;241m.\u001b[39mgene_fitness\n\u001b[1;32m      3\u001b[0m \u001b[38;5;28mprint\u001b[39m(changes[changes\u001b[38;5;241m!=\u001b[39m\u001b[38;5;241m0\u001b[39m])\n\u001b[1;32m      4\u001b[0m big_shifts \u001b[38;5;241m=\u001b[39m np\u001b[38;5;241m.\u001b[39margpartition(changes, \u001b[38;5;241m-\u001b[39m\u001b[38;5;241m5\u001b[39m)[\u001b[38;5;241m-\u001b[39m\u001b[38;5;241m5\u001b[39m:]\n",
      "\u001b[0;31mNameError\u001b[0m: name 'new_best' is not defined"
     ]
    }
   ],
   "source": [
    "bus_lines = list(ind.keys())\n",
    "changes = new_best.gene_fitness - initial.gene_fitness\n",
    "print(changes[changes!=0])\n",
    "big_shifts = np.argpartition(changes, -5)[-5:]\n",
    "\n",
    "for s in big_shifts:        \n",
    "    initial_stops = set(initial.chromosome[s].stops[:,0]) | {initial.chromosome[s].start, initial.chromosome[s].end}\n",
    "    new_stops = set(new_best.chromosome[s].stops[:,0]) | {new_best.chromosome[s].start, new_best.chromosome[s].end}\n",
    "\n",
    "    initial_coords = np.array([G.stops[i].coordinates for i in initial_stops])\n",
    "    new_coords = np.array([G.stops[i].coordinates for i in new_stops])\n",
    "\n",
    "    fig, ax = plt.subplots()\n",
    "\n",
    "    for tract in G.census_shapes.values():\n",
    "        for coords in np.concatenate((initial_coords, new_coords)):\n",
    "            if tract.geometry.contains_point(coords):\n",
    "                p = tract\n",
    "                patch = patches.PathPatch(p.geometry, facecolor='gray', lw=0.75, alpha = 0.5, label='_nolegend_')\n",
    "                ax.add_patch(patch)\n",
    "                break\n",
    "\n",
    "    lc = mc.LineCollection(initial.chromosome[s].geometry, linewidths=1)\n",
    "    ic = plt.scatter(*zip(*initial_coords), marker = 'o')\n",
    "    nc = plt.scatter(*zip(*new_coords), marker = 'x')\n",
    "    #plot_coords = np.array([list(x) for x in (set(map(tuple, new_coords)) - set(map(tuple, initial_coords)))])\n",
    "    #n = plt.scatter(x = plot_coords[:,0], y = plot_coords[:,1], marker = \"x\")\n",
    "    ax.add_collection(lc)\n",
    "    ax.autoscale()\n",
    "    ax.margins(0.1)\n",
    "    ax.legend(['Current Stops','Proposed Stops','Current Route'])\n",
    "    \n",
    "    plt.title(f\"Proposed Change for {bus_lines[s]}\")\n",
    "    plt.show()"
   ]
  }
 ],
 "metadata": {
  "kernelspec": {
   "display_name": "menv",
   "language": "python",
   "name": "python3"
  },
  "language_info": {
   "codemirror_mode": {
    "name": "ipython",
    "version": 3
   },
   "file_extension": ".py",
   "mimetype": "text/x-python",
   "name": "python",
   "nbconvert_exporter": "python",
   "pygments_lexer": "ipython3",
   "version": "3.11.8"
  }
 },
 "nbformat": 4,
 "nbformat_minor": 2
}
